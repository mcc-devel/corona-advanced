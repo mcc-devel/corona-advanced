{
 "cells": [
  {
   "cell_type": "code",
   "execution_count": null,
   "metadata": {},
   "outputs": [],
   "source": [
    "from csv import DictReader\n",
    "import json\n",
    "import os"
   ]
  },
  {
   "cell_type": "markdown",
   "metadata": {},
   "source": [
    "这三个库是用来初步把csv转json并进行保存的"
   ]
  },
  {
   "cell_type": "code",
   "execution_count": null,
   "metadata": {},
   "outputs": [],
   "source": [
    "from datetime import date, timedelta\n",
    "import requests"
   ]
  },
  {
   "cell_type": "markdown",
   "metadata": {},
   "source": [
    "这两个库负责爬取信息并计算时间"
   ]
  },
  {
   "cell_type": "code",
   "execution_count": null,
   "metadata": {},
   "outputs": [],
   "source": [
    "from pyecharts.charts import Map, Timeline\n",
    "from pyecharts import options as opts\n",
    "from pyecharts.globals import ThemeType"
   ]
  },
  {
   "cell_type": "markdown",
   "metadata": {},
   "source": [
    "这些从[pyecharts](www.pyecharts.org)官网找到的库和文档在地图制作和优化上帮了我大忙"
   ]
  },
  {
   "cell_type": "code",
   "execution_count": null,
   "metadata": {},
   "outputs": [],
   "source": [
    "confirm = requests.get('https://raw.fastgit.org/CSSEGISandData/COVID-19/master/csse_covid_19_data/csse_covid_19_time_series/time_series_covid19_confirmed_global.csv')\n",
    "death = requests.get('https://raw.fastgit.org/CSSEGISandData/COVID-19/master/csse_covid_19_data/csse_covid_19_time_series/time_series_covid19_deaths_global.csv')\n",
    "recover = requests.get('https://raw.fastgit.org/CSSEGISandData/COVID-19/master/csse_covid_19_data/csse_covid_19_time_series/time_series_covid19_recovered_global.csv')\n",
    "os.system('rm -rf confirm.csv death.csv recover.csv confirm.json death.json recover.json')\n",
    "fc = open('confirm.csv', 'x', encoding = 'utf-8')\n",
    "fd = open('death.csv', 'x', encoding = 'utf-8')\n",
    "fr = open('recover.csv', 'x', encoding = 'utf-8')\n",
    "fc.write(confirm.text)\n",
    "fd.write(death.text)\n",
    "fr.write(recover.text)\n",
    "fc.close()\n",
    "fd.close()\n",
    "fr.close()\n",
    "jsnc = []\n",
    "jsnd = []\n",
    "jsnr = []\n",
    "fjsnc = open('confirm.json', 'x', encoding = 'utf-8')\n",
    "fjsnd = open('death.json', 'x', encoding = 'utf-8')\n",
    "fjsnr = open('recover.json', 'x', encoding = 'utf-8')\n",
    "fc = open('confirm.csv', 'r', encoding = 'utf-8')\n",
    "fd = open('death.csv', 'r', encoding = 'utf-8')\n",
    "fr = open('recover.csv', 'r', encoding = 'utf-8')\n",
    "rdc = DictReader(fc)\n",
    "rdd = DictReader(fd)\n",
    "rdr = DictReader(fr)\n",
    "\n",
    "for row in rdc:\n",
    "    jsnc.append(row)\n",
    "\n",
    "for row in rdd:\n",
    "    jsnd.append(row)\n",
    "\n",
    "for row in rdr:\n",
    "    jsnr.append(row)\n",
    "\n",
    "json.dump(jsnc, fjsnc)\n",
    "json.dump(jsnd, fjsnd)\n",
    "fjsnc.close()\n",
    "fjsnd.close()\n",
    "print('Information is stored in json format if needed')"
   ]
  },
  {
   "cell_type": "markdown",
   "metadata": {},
   "source": [
    "这里用的是[CSSEGISandData](https://github.com/CSSEGISandData/COVID-19)的数据，就是一个csv转json并保存的程序"
   ]
  },
  {
   "cell_type": "code",
   "execution_count": null,
   "metadata": {},
   "outputs": [],
   "source": [
    "dead = {}\n",
    "conf = {}\n",
    "rcov = {}\n",
    "dates = []\n",
    "delta = timedelta(1)\n",
    "start = date(2020, 1, 22)\n",
    "end = date.today() - delta\n",
    "while start != end:\n",
    "    dates.append(str(start.month) + '/' + str(start.day) + '/' + str(start.year % 100))\n",
    "    start = start + delta"
   ]
  },
  {
   "cell_type": "markdown",
   "metadata": {},
   "source": [
    "定义三个存储信息的字典，计算时间字符串"
   ]
  },
  {
   "cell_type": "code",
   "execution_count": null,
   "metadata": {
    "tags": []
   },
   "outputs": [],
   "source": [
    "flag = False\n",
    "total = 0\n",
    "country = ''\n",
    "countries = []\n",
    "usflag = False"
   ]
  },
  {
   "cell_type": "markdown",
   "metadata": {},
   "source": [
    "对之后的一些特殊处理做准备，有时国家会分成省市写在csv里"
   ]
  },
  {
   "cell_type": "code",
   "execution_count": null,
   "metadata": {
    "tags": []
   },
   "outputs": [],
   "source": [
    "for dat in dates:\n",
    "    conf[dat] = {}\n",
    "    dead[dat] = {}\n",
    "    rcov[dat] = {}\n",
    "    for elem in jsnc:\n",
    "        if elem['Country/Region'] == 'Summer Olympics 2020':\n",
    "            continue\n",
    "        if elem['Country/Region'] == 'US':\n",
    "            elem['Country/Region'] = 'United States'\n",
    "        if elem['Country/Region'] == 'Korea, South':\n",
    "            elem['Country/Region'] = 'Dem. Rep. Korea'\n",
    "        if elem['Country/Region'] == 'Congo (Brazzaville)':\n",
    "            elem['Country/Region'] = 'Congo'\n",
    "        if elem['Country/Region'] == 'Congo (Kinshasa)':\n",
    "            elem['Country/Region'] = 'Dem. Rep. Congo'\n",
    "        if elem['Country/Region'] == 'South Sudan':\n",
    "            elem['Country/Region'] = 'S. Sudan'\n",
    "        if elem['Country/Region'] == 'Central African Republic':\n",
    "            elem['Country/Region'] = 'Central African Rep.'\n",
    "        if elem['Province/State'] == 'Greenland':\n",
    "            elem['Country/Region'] = 'Greenland'\n",
    "            elem['Province/State'] = ''\n",
    "        if elem['Country/Region'] not in countries:\n",
    "            countries.append(elem['Country/Region'])\n",
    "        if elem['Province/State'] == '':\n",
    "            if elem['Country/Region'] not in conf[dat].keys():\n",
    "                conf[dat][elem['Country/Region']] = {}\n",
    "            conf[dat][elem['Country/Region']]['total'] = elem[dat]\n",
    "            if 'children' not in conf[dat][elem['Country/Region']].keys():\n",
    "                conf[dat][elem['Country/Region']]['children'] = None\n",
    "            if flag == True:\n",
    "                flag = False\n",
    "                conf[dat][country]['total'] = total\n",
    "                total = 0\n",
    "                country = ''\n",
    "        else:\n",
    "            if elem['Country/Region'] != country and country != '':\n",
    "                flag = False\n",
    "                conf[dat][country]['total'] = total\n",
    "                total = 0\n",
    "                country = ''\n",
    "            if flag == True:\n",
    "                total = total + int(elem[dat])\n",
    "            if flag == False:\n",
    "                flag = True\n",
    "                country = elem['Country/Region']\n",
    "                conf[dat][country] = {}\n",
    "                conf[dat][country]['children'] = []\n",
    "            conf[dat][country]['children'].append({elem['Province/State'] : elem[dat]})\n",
    "    for elem in jsnd:\n",
    "        if elem['Country/Region'] == 'Summer Olympics 2020':\n",
    "            continue\n",
    "        if elem['Country/Region'] == 'US':\n",
    "            elem['Country/Region'] = 'United States'\n",
    "        if elem['Country/Region'] == 'Korea, South':\n",
    "            elem['Country/Region'] = 'Dem. Rep. Korea'\n",
    "        if elem['Country/Region'] == 'Congo (Brazzaville)':\n",
    "            elem['Country/Region'] = 'Congo'\n",
    "        if elem['Country/Region'] == 'Congo (Kinshasa)':\n",
    "            elem['Country/Region'] = 'Dem. Rep. Congo'\n",
    "        if elem['Country/Region'] == 'South Sudan':\n",
    "            elem['Country/Region'] = 'S. Sudan'\n",
    "        if elem['Country/Region'] == 'Central African Republic':\n",
    "            elem['Country/Region'] = 'Central African Rep.'\n",
    "        if elem['Province/State'] == 'Greenland':\n",
    "            elem['Country/Region'] = 'Greenland'\n",
    "            elem['Province/State'] = ''\n",
    "        if elem['Country/Region'] not in countries:\n",
    "            countries.append(elem['Country/Region'])\n",
    "        if elem['Province/State'] == '':\n",
    "            if elem['Country/Region'] not in dead[dat].keys():\n",
    "                dead[dat][elem['Country/Region']] = {}\n",
    "            dead[dat][elem['Country/Region']]['total'] = elem[dat]\n",
    "            if 'children' not in dead[dat][elem['Country/Region']].keys():\n",
    "                dead[dat][elem['Country/Region']]['children'] = None\n",
    "            if flag == True:\n",
    "                flag = False\n",
    "                dead[dat][country]['total'] = total\n",
    "                total = 0\n",
    "                country = ''\n",
    "        else:\n",
    "            if elem['Country/Region'] != country and country != '':\n",
    "                flag = False\n",
    "                dead[dat][country]['total'] = total\n",
    "                total = 0\n",
    "                country = ''\n",
    "            if flag == True:\n",
    "                total = total + int(elem[dat])\n",
    "            if flag == False:\n",
    "                flag = True\n",
    "                country = elem['Country/Region']\n",
    "                dead[dat][country] = {}\n",
    "                dead[dat][country]['children'] = []\n",
    "            dead[dat][country]['children'].append({elem['Province/State'] : elem[dat]})\n",
    "    for elem in jsnr:\n",
    "        if elem['Country/Region'] == 'Summer Olympics 2020':\n",
    "            continue\n",
    "        if elem['Country/Region'] == 'US':\n",
    "            elem['Country/Region'] = 'United States'\n",
    "        if elem['Country/Region'] == 'Korea, South':\n",
    "            elem['Country/Region'] = 'Dem. Rep. Korea'\n",
    "        if elem['Country/Region'] == 'Congo (Brazzaville)':\n",
    "            elem['Country/Region'] = 'Congo'\n",
    "        if elem['Country/Region'] == 'Congo (Kinshasa)':\n",
    "            elem['Country/Region'] = 'Dem. Rep. Congo'\n",
    "        if elem['Country/Region'] == 'South Sudan':\n",
    "            elem['Country/Region'] = 'S. Sudan'\n",
    "        if elem['Country/Region'] == 'Central African Republic':\n",
    "            elem['Country/Region'] = 'Central African Rep.'\n",
    "        if elem['Province/State'] == 'Greenland':\n",
    "            elem['Country/Region'] = 'Greenland'\n",
    "            elem['Province/State'] = ''\n",
    "        if dat == '12/13/20' and elem['Country/Region'] == 'United States':\n",
    "            usflag = True\n",
    "        if usflag == True and elem['Country/Region'] == 'United States':\n",
    "            elem[dat] = elem['12/13/20']\n",
    "        if elem['Country/Region'] not in countries:\n",
    "            countries.append(elem['Country/Region'])\n",
    "        if elem['Province/State'] == '':\n",
    "            if elem['Country/Region'] not in rcov[dat].keys():\n",
    "                rcov[dat][elem['Country/Region']] = {}\n",
    "            rcov[dat][elem['Country/Region']]['total'] = elem[dat]\n",
    "            if 'children' not in rcov[dat][elem['Country/Region']].keys():\n",
    "                rcov[dat][elem['Country/Region']]['children'] = None\n",
    "            if flag == True:\n",
    "                flag = False\n",
    "                rcov[dat][country]['total'] = total\n",
    "                total = 0\n",
    "                country = ''\n",
    "        else:\n",
    "            if elem['Country/Region'] != country and country != '':\n",
    "                flag = False\n",
    "                rcov[dat][country]['total'] = total\n",
    "                total = 0\n",
    "                country = ''\n",
    "            if flag == True:\n",
    "                total = total + int(elem[dat])\n",
    "            if flag == False:\n",
    "                flag = True\n",
    "                country = elem['Country/Region']\n",
    "                rcov[dat][country] = {}\n",
    "                rcov[dat][country]['children'] = []\n",
    "            rcov[dat][country]['children'].append({elem['Province/State'] : elem[dat]})"
   ]
  },
  {
   "cell_type": "markdown",
   "metadata": {
    "tags": []
   },
   "source": [
    "本来只想给一份的，后来想想这是违反协议的。三份基本一样的代码，用来把原始数据的json转换成需要的格式，其中有一些国家命名不正确，并且格陵兰岛被认为是一个独立的国家，所以这里增加特判，剩下的代码分两类处理，一种是只有独立国家，另一种是分成区域解读的数据。另外还有一种特殊情况，当子地区都提供且独立国家提供时，以独立国家为准。另：美国后面的数据有问题，统一按出事前计算。"
   ]
  },
  {
   "cell_type": "code",
   "execution_count": null,
   "metadata": {},
   "outputs": [],
   "source": [
    "timeline = (\n",
    "    Timeline(init_opts=opts.InitOpts(page_title='Coronavirus', theme=ThemeType.LIGHT))\n",
    ")\n",
    "timeline2 = (\n",
    "    Timeline(init_opts=opts.InitOpts(page_title='Coronavirus', theme=ThemeType.LIGHT))\n",
    ")\n",
    "timeline3 = (\n",
    "    Timeline(init_opts=opts.InitOpts(page_title='Coronavirus', theme=ThemeType.LIGHT))\n",
    ")"
   ]
  },
  {
   "cell_type": "markdown",
   "metadata": {},
   "source": [
    "定义三个时间轴，分别表示确诊、死亡、治愈"
   ]
  },
  {
   "cell_type": "code",
   "execution_count": null,
   "metadata": {},
   "outputs": [],
   "source": [
    "for i in range(len(dates)):\n",
    "    dat = dates[i]\n",
    "    czipped = []\n",
    "    dzipped = []\n",
    "    rzipped = []\n",
    "    for cntry in countries:\n",
    "        czipped.append((cntry, conf[dat][cntry]['total']))\n",
    "        dzipped.append((cntry, dead[dat][cntry]['total']))\n",
    "        rzipped.append((cntry, rcov[dat][cntry]['total']))"
   ]
  },
  {
   "cell_type": "markdown",
   "metadata": {},
   "source": [
    "因为pyecharts要求用tuple类型包裹住数据，所以这里加以处理（小括号tuple中括号list大括号dict）"
   ]
  },
  {
   "cell_type": "code",
   "execution_count": null,
   "metadata": {},
   "outputs": [],
   "source": [
    "    map = (\n",
    "        Map()\n",
    "        .add('Confirmed', czipped, 'world')\n",
    "        .set_series_opts(label_opts=opts.LabelOpts(position='right'))\n",
    "        .set_series_opts(label_opts=opts.LabelOpts(is_show=False))\n",
    "        .set_global_opts(visualmap_opts=opts.VisualMapOpts(is_piecewise=True, pieces=[\n",
    "            {'min':10000000, 'label':'10000000+', 'color':'#f26522'},\n",
    "            {'min':1000000, 'max':9999999, 'color':'#102b6a'},\n",
    "            {'min':500000, 'max':999999, 'color':'#411445'},\n",
    "            {'min':100000, 'max':499999, 'color':'#003a6c'},\n",
    "            {'min':50000, 'max':99999, 'color':'#494e8f'},\n",
    "            {'min':6000, 'max':49999, 'color':'#130c0e'},\n",
    "            {'min':2000, 'max':5999, 'color':'#401c44'},\n",
    "            {'min':300, 'max':1999, 'color':'#78331e'},\n",
    "            {'min':150, 'max':299, 'color':'#7a1723'},\n",
    "            {'min':90, 'max':149, 'color':'#a7324a'},\n",
    "            {'min':40, 'max':89, 'color':'#d93a49'},\n",
    "            {'min':20, 'max':39, 'color':'#f8aba6'},\n",
    "            {'min':0, 'max':19, 'color':'#feeeed'}\n",
    "        ]))\n",
    "    )"
   ]
  },
  {
   "cell_type": "markdown",
   "metadata": {},
   "source": [
    "处理确诊"
   ]
  },
  {
   "cell_type": "code",
   "execution_count": null,
   "metadata": {},
   "outputs": [],
   "source": [
    "    map2 = (\n",
    "        Map()\n",
    "        .add('Dead', dzipped, 'world')\n",
    "        .set_series_opts(label_opts=opts.LabelOpts(is_show=False))\n",
    "        .set_global_opts(visualmap_opts=opts.VisualMapOpts(is_piecewise=True, pieces=[\n",
    "            {'min':100000, 'label':'100000+', 'color':'#f26522'},\n",
    "            {'min':50000, 'max':99999, 'color':'#003a6c'},\n",
    "            {'min':13000, 'max':49999, 'color':'#494e8f'},\n",
    "            {'min':1000, 'max':12999, 'color':'#130c0e'},\n",
    "            {'min':500, 'max':999, 'color':'#401c44'},\n",
    "            {'min':250, 'max':499, 'color':'#78331e'},\n",
    "            {'min':150, 'max':249, 'color':'#7a1723'},\n",
    "            {'min':90, 'max':149, 'color':'#a7324a'},\n",
    "            {'min':40, 'max':89, 'color':'#d93a49'},\n",
    "            {'min':20, 'max':39, 'color':'#f8aba6'},\n",
    "            {'min':0, 'max':19, 'color':'#feeeed'}\n",
    "        ]))\n",
    "    )"
   ]
  },
  {
   "cell_type": "markdown",
   "metadata": {},
   "source": [
    "处理死亡"
   ]
  },
  {
   "cell_type": "code",
   "execution_count": null,
   "metadata": {},
   "outputs": [],
   "source": [
    "    map3 = (\n",
    "        Map()\n",
    "        .add('Recovered', rzipped, 'world')\n",
    "        .set_series_opts(label_opts=opts.LabelOpts(position='right'))\n",
    "        .set_series_opts(label_opts=opts.LabelOpts(is_show=False))\n",
    "        .set_global_opts(visualmap_opts=opts.VisualMapOpts(is_piecewise=True, pieces=[\n",
    "            {'min':10000000, 'label':'10000000+', 'color':'#009ad6'},\n",
    "            {'min':1000000, 'max':9999999, 'color':'#00ae9d'},\n",
    "            {'min':500000, 'max':999999, 'color':'#78a355'},\n",
    "            {'min':100000, 'max':499999, 'color':'#5c7a29'},\n",
    "            {'min':50000, 'max':99999, 'color':'#a3cf62'},\n",
    "            {'min':6000, 'max':49999, 'color':'#b2d235'},\n",
    "            {'min':2000, 'max':5999, 'color':'#7fb80e'},\n",
    "            {'min':300, 'max':1999, 'color':'#007d65'},\n",
    "            {'min':150, 'max':299, 'color':'#007947'},\n",
    "            {'min':90, 'max':149, 'color':'#1d953f'},\n",
    "            {'min':40, 'max':89, 'color':'#84bf96'},\n",
    "            {'min':20, 'max':39, 'color':'#abc88b'},\n",
    "            {'min':0, 'max':19, 'color':'#cde6c7'}\n",
    "        ]))\n",
    "    )"
   ]
  },
  {
   "cell_type": "markdown",
   "metadata": {},
   "source": [
    "处理治愈"
   ]
  },
  {
   "cell_type": "code",
   "execution_count": null,
   "metadata": {},
   "outputs": [],
   "source": [
    "    timeline.add(map, dat)\n",
    "    timeline2.add(map2, dat)\n",
    "    timeline3.add(map3, dat)"
   ]
  },
  {
   "cell_type": "markdown",
   "metadata": {},
   "source": [
    "分别添加进对应时间轴"
   ]
  },
  {
   "cell_type": "code",
   "execution_count": null,
   "metadata": {},
   "outputs": [],
   "source": [
    "timeline.add_schema(play_interval=50)\n",
    "timeline.render('Corona-confirms.html')\n",
    "timeline2.add_schema(play_interval=50)\n",
    "timeline2.render('Corona-deaths.html')\n",
    "timeline3.add_schema(play_interval=50)\n",
    "timeline3.render('Corona-recoveries.html')"
   ]
  },
  {
   "cell_type": "markdown",
   "metadata": {},
   "source": [
    "添加间隔50毫秒的限制，并输出文档"
   ]
  },
  {
   "cell_type": "code",
   "execution_count": null,
   "metadata": {},
   "outputs": [],
   "source": [
    "print('Generated graphs')\n",
    "print('Done')"
   ]
  },
  {
   "cell_type": "markdown",
   "metadata": {},
   "source": [
    "最后提示用户，大功告成！"
   ]
  },
  {
   "cell_type": "markdown",
   "metadata": {},
   "source": [
    "后话：本程序遵循GPL-3.0协议，可以随意复制、更改或使用，但复制后必须依然开源。"
   ]
  },
  {
   "cell_type": "markdown",
   "metadata": {},
   "source": [
    "最后的最后，如果有任何建议，可以在[github上](https://github.com/mcc-devel/corona-advanced/issues)或[自己直接写好代码](https://github.com/mcc-devel/corona-advanced/pulls)告诉我，也可以[邮箱联系](mailto:jettzheng@foxmail.com)。"
   ]
  }
 ],
 "metadata": {
  "interpreter": {
   "hash": "aee8b7b246df8f9039afb4144a1f6fd8d2ca17a180786b69acc140d282b71a49"
  },
  "kernelspec": {
   "display_name": "Python 3 (ipykernel)",
   "language": "python",
   "name": "python3"
  },
  "language_info": {
   "codemirror_mode": {
    "name": "ipython",
    "version": 3
   },
   "file_extension": ".py",
   "mimetype": "text/x-python",
   "name": "python",
   "nbconvert_exporter": "python",
   "pygments_lexer": "ipython3",
   "version": "3.9.6"
  }
 },
 "nbformat": 4,
 "nbformat_minor": 4
}
